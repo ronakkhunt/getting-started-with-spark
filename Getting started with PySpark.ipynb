{
 "cells": [
  {
   "cell_type": "markdown",
   "metadata": {},
   "source": [
    "### Starting up the Docker container\n",
    "Simply download docker from the [docker website](https://www.docker.com/get-started) and run the following command in the terminal:\n",
    "`docker run -it -p 8888:8888 jupyter/pyspark-notebook`\n",
    "\n",
    "### Mounting the host volume\n",
    "- If you want to store your created notebook in you local machine you need to mount your local directory to the docker container\n",
    "- TL;DR TO mount `~/dockerhome` in your machine to `/home/jovyan`(absolute path needed) inside your docker container you can add `-v ~/dockerhome:/home/jovyan` option in above command\n",
    "- Final command `docker run -it -p 8888:8888 -v ~/dockerhome:/home/jovyan jupyter/pyspark-notebook`\n",
    "- https://www.digitalocean.com/community/tutorials/how-to-share-data-between-the-docker-container-and-the-host\n",
    "\n",
    "### Original docker image\n",
    "- https://hub.docker.com/r/jupyter/pyspark-notebook/"
   ]
  },
  {
   "cell_type": "markdown",
   "metadata": {},
   "source": [
    "### Download Data"
   ]
  },
  {
   "cell_type": "code",
   "execution_count": 2,
   "metadata": {},
   "outputs": [
    {
     "name": "stdout",
     "output_type": "stream",
     "text": [
      "  % Total    % Received % Xferd  Average Speed   Time    Time     Time  Current\n",
      "                                 Dload  Upload   Total   Spent    Left  Speed\n",
      "100  284M    0  284M    0     0  3642k      0 --:--:--  0:01:19 --:--:-- 4926k\n"
     ]
    }
   ],
   "source": [
    "# Data can also be downloaded from here: https://data.vermont.gov/Finance/Vermont-Vendor-Payments/786x-sbp3\n",
    "# ! curl -o VermontVendor.csv https://data.vermont.gov/api/views/786x-sbp3/rows.csv?accessType=DOWNLOAD "
   ]
  },
  {
   "cell_type": "markdown",
   "metadata": {},
   "source": [
    "### Setting up the Spark session"
   ]
  },
  {
   "cell_type": "code",
   "execution_count": 3,
   "metadata": {},
   "outputs": [
    {
     "name": "stderr",
     "output_type": "stream",
     "text": [
      "/opt/conda/lib/python3.7/importlib/_bootstrap.py:219: RuntimeWarning: numpy.ufunc size changed, may indicate binary incompatibility. Expected 192 from C header, got 216 from PyObject\n",
      "  return f(*args, **kwds)\n"
     ]
    }
   ],
   "source": [
    "import pandas as pd\n",
    "import numpy as np\n",
    "import matplotlib.pyplot as plt\n",
    "from pyspark.sql import SparkSession"
   ]
  },
  {
   "cell_type": "code",
   "execution_count": 5,
   "metadata": {},
   "outputs": [],
   "source": [
    "spark = (\n",
    "    SparkSession\n",
    "    .builder\n",
    "    .appName('getting-started-with-pyspark')\n",
    "    .getOrCreate()\n",
    ")"
   ]
  },
  {
   "cell_type": "code",
   "execution_count": 14,
   "metadata": {},
   "outputs": [
    {
     "name": "stdout",
     "output_type": "stream",
     "text": [
      "463 ms ± 50.5 ms per loop (mean ± std. dev. of 7 runs, 1 loop each)\n"
     ]
    }
   ],
   "source": [
    "%%timeit # Reading in CSV\n",
    "df = spark.read.csv('VermontVendor.csv', header=True)"
   ]
  },
  {
   "cell_type": "code",
   "execution_count": 15,
   "metadata": {},
   "outputs": [
    {
     "name": "stdout",
     "output_type": "stream",
     "text": [
      "7.71 s ± 1.2 s per loop (mean ± std. dev. of 7 runs, 1 loop each)\n"
     ]
    }
   ],
   "source": [
    "%%timeit # REadiang CSV with pandas for time comparison\n",
    "df = pd.read_csv('VermontVendor.csv')"
   ]
  },
  {
   "cell_type": "code",
   "execution_count": 16,
   "metadata": {},
   "outputs": [],
   "source": [
    "# Reading CSV again for analysis\n",
    "df = spark.read.csv('VermontVendor.csv', header=True, inferSchema=True)\n",
    "# Casting `Amount` to double\n",
    "df = df.withColumn(\"Amount\", df[\"Amount\"].cast(\"double\"))"
   ]
  },
  {
   "cell_type": "markdown",
   "metadata": {},
   "source": [
    "### Basic Spark Methods"
   ]
  },
  {
   "cell_type": "code",
   "execution_count": 19,
   "metadata": {},
   "outputs": [
    {
     "name": "stdout",
     "output_type": "stream",
     "text": [
      "+--------------+--------------------+------+-------------+--------------------+----+-----+------------------+----------+------+--------------------+------+--------------------+-----+\n",
      "|Quarter Ending|          Department|UnitNo|Vendor Number|              Vendor|City|State|DeptID Description|    DeptID|Amount|             Account|AcctNo|    Fund Description| Fund|\n",
      "+--------------+--------------------+------+-------------+--------------------+----+-----+------------------+----------+------+--------------------+------+--------------------+-----+\n",
      "|    09/30/2009|Environmental Con...|  6140|   0000276016|1st Run Computer ...|null|   NY|   WQD - Waterbury|6140040206| 930.0|Rep&Maint-Info Te...|513000|Environmental Per...|21295|\n",
      "+--------------+--------------------+------+-------------+--------------------+----+-----+------------------+----------+------+--------------------+------+--------------------+-----+\n",
      "only showing top 1 row\n",
      "\n"
     ]
    }
   ],
   "source": [
    "df.show(1)"
   ]
  },
  {
   "cell_type": "code",
   "execution_count": 20,
   "metadata": {},
   "outputs": [
    {
     "data": {
      "text/plain": [
       "[Row(Quarter Ending='09/30/2009', Department='Environmental Conservation', UnitNo=6140, Vendor Number='0000276016', Vendor='1st Run Computer Services Inc', City=None, State='NY', DeptID Description='WQD - Waterbury', DeptID='6140040206', Amount=930.0, Account='Rep&Maint-Info Tech Hardware', AcctNo='513000', Fund Description='Environmental Permit Fund', Fund='21295')]"
      ]
     },
     "execution_count": 20,
     "metadata": {},
     "output_type": "execute_result"
    }
   ],
   "source": [
    "df.head(1)"
   ]
  },
  {
   "cell_type": "code",
   "execution_count": 18,
   "metadata": {},
   "outputs": [
    {
     "data": {
      "text/plain": [
       "['Quarter Ending',\n",
       " 'Department',\n",
       " 'UnitNo',\n",
       " 'Vendor Number',\n",
       " 'Vendor',\n",
       " 'City',\n",
       " 'State',\n",
       " 'DeptID Description',\n",
       " 'DeptID',\n",
       " 'Amount',\n",
       " 'Account',\n",
       " 'AcctNo',\n",
       " 'Fund Description',\n",
       " 'Fund']"
      ]
     },
     "execution_count": 18,
     "metadata": {},
     "output_type": "execute_result"
    }
   ],
   "source": [
    "df.columns"
   ]
  },
  {
   "cell_type": "code",
   "execution_count": 30,
   "metadata": {},
   "outputs": [
    {
     "name": "stdout",
     "output_type": "stream",
     "text": [
      "+-------+--------------+--------------------+------------------+------------------+--------------------+--------+------------------+------------------+--------------------+------------------+-------------------+------------------+--------------------+--------------------+\n",
      "|summary|Quarter Ending|          Department|            UnitNo|     Vendor Number|              Vendor|    City|             State|DeptID Description|              DeptID|            Amount|            Account|            AcctNo|    Fund Description|                Fund|\n",
      "+-------+--------------+--------------------+------------------+------------------+--------------------+--------+------------------+------------------+--------------------+------------------+-------------------+------------------+--------------------+--------------------+\n",
      "|  count|       1648466|             1648466|           1648466|           1648466|             1648466|  906143|           1648418|           1647929|             1648466|           1648120|            1648466|           1648466|             1648464|             1648465|\n",
      "|   mean|          null|                null| 4066.685749053969|104659.64817383779|                null|     0.0|1.7647058823529411|              null|4.0679534882007966E9| 187043.9457611542|7.102488604067901E8| 532118.8538897713|   517528.0227272727|  25944.316236775336|\n",
      "| stddev|          null|                null|2331.2112723863165|120936.10004693149|                null|     0.0|11.435790787014676|              null|2.3309358195128345E9|1.42775990914224E7|5.660307433200139E8|30123.760027063545|  4475.9029827395225|   19240.43199792555|\n",
      "|    min|    03/31/2010|AOT Proprietary F...|              1100|        0000000002|\"Jewett,Martin A ...|       0|                 0|         \"\"\"Admin.|              CCV\"\"\"|       -2880183.34|            -294.00|           -294.00|              507200|               10000|\n",
      "|    max|    12/31/2019|  Women's Commission|              9150|            SINGLE|           xAd, Inc.|w Berlin|                ZZ|     Youth at Risk|                 Seg|         6.10001E9|  Youth Development|       Water/Sewer|Youth Substance A...|Facilities Operat...|\n",
      "+-------+--------------+--------------------+------------------+------------------+--------------------+--------+------------------+------------------+--------------------+------------------+-------------------+------------------+--------------------+--------------------+\n",
      "\n"
     ]
    }
   ],
   "source": [
    "df.describe().show()"
   ]
  },
  {
   "cell_type": "markdown",
   "metadata": {},
   "source": [
    "### Querying the Data"
   ]
  },
  {
   "cell_type": "markdown",
   "metadata": {},
   "source": [
    "The following code registers temporary table and selects a few columns using SQL syntax:"
   ]
  },
  {
   "cell_type": "code",
   "execution_count": null,
   "metadata": {},
   "outputs": [],
   "source": [
    "df.createOrReplaceTempView('VermontVendor')"
   ]
  },
  {
   "cell_type": "markdown",
   "metadata": {},
   "source": [
    "### Spark SELECT"
   ]
  },
  {
   "cell_type": "code",
   "execution_count": 32,
   "metadata": {},
   "outputs": [
    {
     "name": "stdout",
     "output_type": "stream",
     "text": [
      "+--------------+--------------------+------+-----+\n",
      "|Quarter Ending|          Department|Amount|State|\n",
      "+--------------+--------------------+------+-----+\n",
      "|    09/30/2009|Environmental Con...| 930.0|   NY|\n",
      "|    09/30/2009|Environmental Con...| 930.0|   NY|\n",
      "|    09/30/2009|Vermont Veterans'...|  24.0|   CT|\n",
      "|    09/30/2009|Vermont Veterans'...| 420.0|   CT|\n",
      "|    09/30/2009|         Corrections| 270.8|   PA|\n",
      "|    09/30/2009|         Corrections|  35.0|   PA|\n",
      "|    09/30/2009|       Public Safety| 971.4|   PA|\n",
      "|    09/30/2009|Agriculture, Food...| 60.59|   TX|\n",
      "|    09/30/2009|Agriculture, Food...|541.62|   TX|\n",
      "|    09/30/2009|              Health|283.98|   PA|\n",
      "+--------------+--------------------+------+-----+\n",
      "\n"
     ]
    }
   ],
   "source": [
    "spark.sql(\n",
    "'''\n",
    "SELECT `Quarter Ending`, Department, Amount, State FROM VermontVendor\n",
    "LIMIT 10\n",
    "'''\n",
    ").show()"
   ]
  },
  {
   "cell_type": "markdown",
   "metadata": {},
   "source": [
    "#### Above method is same as below line"
   ]
  },
  {
   "cell_type": "code",
   "execution_count": 33,
   "metadata": {},
   "outputs": [
    {
     "name": "stdout",
     "output_type": "stream",
     "text": [
      "+--------------+--------------------+------+-----+\n",
      "|Quarter Ending|          Department|Amount|State|\n",
      "+--------------+--------------------+------+-----+\n",
      "|    09/30/2009|Environmental Con...| 930.0|   NY|\n",
      "|    09/30/2009|Environmental Con...| 930.0|   NY|\n",
      "|    09/30/2009|Vermont Veterans'...|  24.0|   CT|\n",
      "|    09/30/2009|Vermont Veterans'...| 420.0|   CT|\n",
      "|    09/30/2009|         Corrections| 270.8|   PA|\n",
      "|    09/30/2009|         Corrections|  35.0|   PA|\n",
      "|    09/30/2009|       Public Safety| 971.4|   PA|\n",
      "|    09/30/2009|Agriculture, Food...| 60.59|   TX|\n",
      "|    09/30/2009|Agriculture, Food...|541.62|   TX|\n",
      "|    09/30/2009|              Health|283.98|   PA|\n",
      "+--------------+--------------------+------+-----+\n",
      "only showing top 10 rows\n",
      "\n"
     ]
    }
   ],
   "source": [
    "df.select('Quarter Ending', 'Department', 'Amount', 'State').show(10)"
   ]
  },
  {
   "cell_type": "markdown",
   "metadata": {},
   "source": [
    "### Spark WHERE"
   ]
  },
  {
   "cell_type": "code",
   "execution_count": 34,
   "metadata": {},
   "outputs": [
    {
     "name": "stdout",
     "output_type": "stream",
     "text": [
      "+--------------+----------+-------+-----+\n",
      "|Quarter Ending|Department| Amount|State|\n",
      "+--------------+----------+-------+-----+\n",
      "|    09/30/2009| Education|9423.36|   VT|\n",
      "|    09/30/2009| Education| 110.03|   IL|\n",
      "|    09/30/2009| Education| 332.58|   IL|\n",
      "|    09/30/2009| Education|  60.08|   IL|\n",
      "|    09/30/2009| Education| 284.83|   IL|\n",
      "|    09/30/2009| Education| 377.15|   IL|\n",
      "|    09/30/2009| Education| 114.74|   IL|\n",
      "|    09/30/2009| Education| 129.72|   IL|\n",
      "|    09/30/2009| Education| 114.54|   IL|\n",
      "|    09/30/2009| Education|  375.6|   IL|\n",
      "+--------------+----------+-------+-----+\n",
      "\n"
     ]
    }
   ],
   "source": [
    "spark.sql(\n",
    "'''\n",
    "SELECT `Quarter Ending`, Department, Amount, State FROM VermontVendor \n",
    "WHERE Department = 'Education'\n",
    "LIMIT 10\n",
    "'''\n",
    ").show()"
   ]
  },
  {
   "cell_type": "markdown",
   "metadata": {},
   "source": [
    "#### Same as below"
   ]
  },
  {
   "cell_type": "code",
   "execution_count": 35,
   "metadata": {},
   "outputs": [
    {
     "name": "stdout",
     "output_type": "stream",
     "text": [
      "+--------------+----------+-------+-----+\n",
      "|Quarter Ending|Department| Amount|State|\n",
      "+--------------+----------+-------+-----+\n",
      "|    09/30/2009| Education|9423.36|   VT|\n",
      "|    09/30/2009| Education| 110.03|   IL|\n",
      "|    09/30/2009| Education| 332.58|   IL|\n",
      "|    09/30/2009| Education|  60.08|   IL|\n",
      "|    09/30/2009| Education| 284.83|   IL|\n",
      "|    09/30/2009| Education| 377.15|   IL|\n",
      "|    09/30/2009| Education| 114.74|   IL|\n",
      "|    09/30/2009| Education| 129.72|   IL|\n",
      "|    09/30/2009| Education| 114.54|   IL|\n",
      "|    09/30/2009| Education|  375.6|   IL|\n",
      "+--------------+----------+-------+-----+\n",
      "only showing top 10 rows\n",
      "\n"
     ]
    }
   ],
   "source": [
    "df.select('Quarter Ending', 'Department', 'Amount', 'State').filter(df['Department'] == 'Education').show(10)"
   ]
  },
  {
   "cell_type": "markdown",
   "metadata": {},
   "source": [
    "### That's it folks\n",
    "\n",
    "#### Reference\n",
    "- https://levelup.gitconnected.com/using-docker-and-pyspark-134cd4cab867"
   ]
  },
  {
   "cell_type": "code",
   "execution_count": null,
   "metadata": {},
   "outputs": [],
   "source": []
  }
 ],
 "metadata": {
  "kernelspec": {
   "display_name": "Python 3",
   "language": "python",
   "name": "python3"
  },
  "language_info": {
   "codemirror_mode": {
    "name": "ipython",
    "version": 3
   },
   "file_extension": ".py",
   "mimetype": "text/x-python",
   "name": "python",
   "nbconvert_exporter": "python",
   "pygments_lexer": "ipython3",
   "version": "3.7.6"
  }
 },
 "nbformat": 4,
 "nbformat_minor": 4
}
